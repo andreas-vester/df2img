{
 "cells": [
  {
   "cell_type": "markdown",
   "metadata": {
    "collapsed": true,
    "pycharm": {
     "name": "#%% md\n"
    }
   },
   "source": [
    "# Formatting\n",
    "\n",
    "**df2img** uses the [plotly](https://plotly.com/python/) library in the background in order to create tables. That\n",
    "means, you can take advantage of all the formatting capabilities provided by [plotly](https://plotly.com/python/).\n",
    "\n",
    "The most important things with respect to the layout of a table can be controlled via input arguments to **df2img**'s\n",
    "``plot_dataframe()`` function.\n",
    "\n",
    "* Title\n",
    "  * Title text\n",
    "  * Font color\n",
    "  * Font size\n",
    "  * Font family\n",
    "  * Horizontal alignment\n",
    "* Turning on/off the header row visibility\n",
    "* Table header and table cells\n",
    "  * Font color\n",
    "  * Font size\n",
    "  * Font family\n",
    "  * Fill/background color\n",
    "  * Horizontal alignment of individual/multiple columns\n",
    "  * Row height\n",
    "  * Line width\n",
    "* Possibility to alternate row colors for better readability\n",
    "* Width of individual/multiple columns\n",
    "* Figure size\n",
    "\n",
    "All the following examples will use ``df``."
   ]
  },
  {
   "cell_type": "code",
   "execution_count": null,
   "outputs": [],
   "source": [
    "import pandas as pd\n",
    "\n",
    "import df2img\n",
    "\n",
    "\n",
    "df = pd.DataFrame(\n",
    "    data=dict(\n",
    "        float_col=[1.4, float(\"NaN\"), 250, 24.65],\n",
    "        str_col=(\"string1\", \"string2\", float(\"NaN\"), \"string4\"),\n",
    "    ),\n",
    "    index=[\"row1\", \"row2\", \"row3\", \"row4\"],\n",
    ")\n",
    "\n",
    "df"
   ],
   "metadata": {
    "collapsed": false,
    "pycharm": {
     "name": "#%%\n"
    }
   }
  },
  {
   "cell_type": "markdown",
   "source": [
    "## Title\n",
    "\n",
    "Setting the title will be controlled via the ``title`` input argument. ``title`` takes a ``dict``. Some of the more\n",
    "important keys you can use are\n",
    "\n",
    "* ``text``\n",
    "* ``font_color``\n",
    "* ``font_size``\n",
    "* ``font_family``\n",
    "* ``x``\n",
    "* ``xanchor``\n",
    "\n",
    "You can find all the relevant key/value pairs here: https://plotly.com/python/reference/layout/#layout-title.\n",
    "\n",
    "Let's insert a title and specify ``font_family`` and ``font_size``. We can control the alignment via the ``x``\n",
    "key/value pair. It sets the x (horizontal) position in normalized coordinates from \"0\" (left) to \"1\" (right)."
   ],
   "metadata": {
    "collapsed": false,
    "pycharm": {
     "name": "#%% md\n"
    }
   }
  },
  {
   "cell_type": "code",
   "execution_count": null,
   "outputs": [],
   "source": [
    "fig=df2img.plot_dataframe(\n",
    "    df,\n",
    "    title=dict(\n",
    "        text=\"This is a title starting at the x-value x=0.1\",\n",
    "        font_color=\"darkred\",\n",
    "        font_size=20,\n",
    "        font_family=\"Times New Roman\",\n",
    "        x=0.1,\n",
    "        xanchor=\"left\",\n",
    "    ),\n",
    "    fig_size=(600, 140),\n",
    ")"
   ],
   "metadata": {
    "collapsed": false,
    "pycharm": {
     "name": "#%%\n"
    }
   }
  },
  {
   "cell_type": "markdown",
   "source": [
    "## Header row visibility\n",
    "\n",
    "You can turn on/off the header row via the ``tbl_header_visible`` input argument. It is set to ``True`` by default.\n"
   ],
   "metadata": {
    "collapsed": false,
    "pycharm": {
     "name": "#%% md\n"
    }
   }
  },
  {
   "cell_type": "code",
   "execution_count": null,
   "outputs": [],
   "source": [
    "fig=df2img.plot_dataframe(\n",
    "    df,\n",
    "    tbl_header_visible=True,  # default value\n",
    "    fig_size=(600, 140)\n",
    ")"
   ],
   "metadata": {
    "collapsed": false,
    "pycharm": {
     "name": "#%%\n"
    }
   }
  },
  {
   "cell_type": "code",
   "execution_count": null,
   "outputs": [],
   "source": [
    "fig=df2img.plot_dataframe(\n",
    "    df,\n",
    "    tbl_header_visible=False,\n",
    "    fig_size=(600, 140)\n",
    ")"
   ],
   "metadata": {
    "collapsed": false,
    "pycharm": {
     "name": "#%%\n"
    }
   }
  },
  {
   "cell_type": "markdown",
   "source": [
    "## Table header\n",
    "\n",
    "You can control the settings for the header row via the ``tbl_header`` input argument. This accepts a regular ``dict``.\n",
    "This ``dict`` can comprise various key/value pairs that are also accepted by ``plotly``. All available key/value pairs\n",
    "can be seen at ``plotly``'s website at https://plotly.com/python/reference/table/#table-header.\n",
    "\n",
    "Let's set the header row in a different color and size. Also, let's set the alignment to \"left\"."
   ],
   "metadata": {
    "collapsed": false,
    "pycharm": {
     "name": "#%% md\n"
    }
   }
  },
  {
   "cell_type": "code",
   "execution_count": null,
   "outputs": [],
   "source": [
    "fig = df2img.plot_dataframe(\n",
    "    df,\n",
    "    tbl_header=dict(\n",
    "        align=\"left\",\n",
    "        fill_color=\"blue\",\n",
    "        font_color=\"white\",\n",
    "        font_size=14,\n",
    "    ),\n",
    "    fig_size=(600, 140),\n",
    ")"
   ],
   "metadata": {
    "collapsed": false,
    "pycharm": {
     "name": "#%%\n"
    }
   }
  },
  {
   "cell_type": "markdown",
   "source": [
    "## Table cells\n",
    "\n",
    "Controlling the table body (cells) is basically the same. Just use the ``tbl_cells`` input argument, which happens to be\n",
    "a ``dict``, too. See https://plotly.com/python/reference/table/#table-cells for all the possible key/value pairs.\n",
    "\n",
    "Let's print the table cell values in yellow on a green background and align them \"right\"."
   ],
   "metadata": {
    "collapsed": false,
    "pycharm": {
     "name": "#%% md\n"
    }
   }
  },
  {
   "cell_type": "code",
   "execution_count": null,
   "outputs": [],
   "source": [
    "fig = df2img.plot_dataframe(\n",
    "    df,\n",
    "    tbl_cells=dict(\n",
    "        align=\"right\",\n",
    "        fill_color=\"green\",\n",
    "        font_color=\"yellow\",\n",
    "    ),\n",
    "    fig_size=(600, 140),\n",
    ")"
   ],
   "metadata": {
    "collapsed": false,
    "pycharm": {
     "name": "#%%\n"
    }
   }
  },
  {
   "cell_type": "markdown",
   "source": [
    "You can vary the row height or the line width. Let's increase both to see the difference."
   ],
   "metadata": {
    "collapsed": false,
    "pycharm": {
     "name": "#%% md\n"
    }
   }
  },
  {
   "cell_type": "code",
   "execution_count": null,
   "outputs": [],
   "source": [
    "fig = df2img.plot_dataframe(\n",
    "    df,\n",
    "    tbl_header=dict(\n",
    "        height=50,\n",
    "        line_width=3,\n",
    "    ),\n",
    "    tbl_cells=dict(\n",
    "        align=\"right\",\n",
    "        fill_color=\"green\",\n",
    "        font_color=\"yellow\",\n",
    "        height=40,\n",
    "        line_width=3,\n",
    "    ),\n",
    "    fig_size=(600, 140),\n",
    ")\n"
   ],
   "metadata": {
    "collapsed": false,
    "pycharm": {
     "name": "#%%\n"
    }
   }
  },
  {
   "cell_type": "markdown",
   "source": [
    "## Alternate row colors\n",
    "\n",
    "Sometimes it might make sense to alternate row colors. That increases readability. Just provide a ``tuple`` of color\n",
    "values to the ``row_fill_color`` input argument. Using HEX colors is also possible."
   ],
   "metadata": {
    "collapsed": false,
    "pycharm": {
     "name": "#%% md\n"
    }
   }
  },
  {
   "cell_type": "code",
   "execution_count": null,
   "outputs": [],
   "source": [
    "fig = df2img.plot_dataframe(\n",
    "    df,\n",
    "    row_fill_color=(\"#ffffff\", \"#d7d8d6\"),\n",
    "    fig_size=(600, 140),\n",
    ")\n"
   ],
   "metadata": {
    "collapsed": false,
    "pycharm": {
     "name": "#%%\n"
    }
   }
  },
  {
   "cell_type": "markdown",
   "source": [
    "## Controlling column width\n",
    "\n",
    "You can also control **relative** column width via the ``col_width`` argument. Columns fill the available width in\n",
    "proportion of their specified column widths. For example, let's set the first column's width triple\n",
    "the width of the third column and the second column's width double the width of the third column."
   ],
   "metadata": {
    "collapsed": false,
    "pycharm": {
     "name": "#%% md\n"
    }
   }
  },
  {
   "cell_type": "code",
   "execution_count": null,
   "outputs": [],
   "source": [
    "fig = df2img.plot_dataframe(\n",
    "    df,\n",
    "    col_width=[3, 2, 1],\n",
    "    fig_size=(600, 140),\n",
    ")\n"
   ],
   "metadata": {
    "collapsed": false,
    "pycharm": {
     "name": "#%%\n"
    }
   }
  },
  {
   "cell_type": "markdown",
   "source": [
    "Now, what about if the second column should be double as wide as the other columns? - Just specify\n",
    "``col_width=[0.5, 1, 0.5]``. The absolute numbers don't have any meaning. Important is simply the proportion to each\n",
    "other. Specifying ``col_width=[100, 200, 100]`` would lead to the exact same result."
   ],
   "metadata": {
    "collapsed": false,
    "pycharm": {
     "name": "#%% md\n"
    }
   }
  },
  {
   "cell_type": "code",
   "execution_count": null,
   "outputs": [],
   "source": [
    "fig = df2img.plot_dataframe(\n",
    "    df,\n",
    "    col_width=[0.5, 1, 0.5],\n",
    "    fig_size=(600, 140),\n",
    ")\n"
   ],
   "metadata": {
    "collapsed": false,
    "pycharm": {
     "name": "#%%\n"
    }
   }
  },
  {
   "cell_type": "markdown",
   "source": [
    "## Sizing the whole figure\n",
    "\n",
    "The ``fig_size`` keyword argument takes a ``tuple`` of integer values. They specify the width and height of the overall\n",
    "figure. If you set the numbers too low, it might happen that part of the image will get cropped (as in the first\n",
    "example). If you set the numbers too large, you might end up with too much white space around the image."
   ],
   "metadata": {
    "collapsed": false
   }
  },
  {
   "cell_type": "code",
   "execution_count": null,
   "outputs": [],
   "source": [
    "fig = df2img.plot_dataframe(df, fig_size=(300, 75))"
   ],
   "metadata": {
    "collapsed": false,
    "pycharm": {
     "name": "#%%\n"
    }
   }
  },
  {
   "cell_type": "code",
   "execution_count": null,
   "outputs": [],
   "source": [
    "fig = df2img.plot_dataframe(df, fig_size=(500, 150))"
   ],
   "metadata": {
    "collapsed": false,
    "pycharm": {
     "name": "#%%\n"
    }
   }
  },
  {
   "cell_type": "code",
   "execution_count": null,
   "outputs": [],
   "source": [
    "fig = df2img.plot_dataframe(df, fig_size=(700, 200))"
   ],
   "metadata": {
    "collapsed": false,
    "pycharm": {
     "name": "#%%\n"
    }
   }
  }
 ],
 "metadata": {
  "kernelspec": {
   "display_name": "Python 3",
   "language": "python",
   "name": "python3"
  },
  "language_info": {
   "codemirror_mode": {
    "name": "ipython",
    "version": 2
   },
   "file_extension": ".py",
   "mimetype": "text/x-python",
   "name": "python",
   "nbconvert_exporter": "python",
   "pygments_lexer": "ipython2",
   "version": "2.7.6"
  }
 },
 "nbformat": 4,
 "nbformat_minor": 0
}