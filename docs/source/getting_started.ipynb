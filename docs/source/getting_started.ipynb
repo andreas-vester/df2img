{
 "cells": [
  {
   "cell_type": "markdown",
   "metadata": {},
   "source": [
    "# Getting started\n",
    "\n",
    "Using **df2img**, it's pretty straightforward to save a ``pd.DataFrame`` into an image file. Let's first create a\n",
    "``pd.DataFrame`` for illustrative purposes."
   ]
  },
  {
   "cell_type": "code",
   "execution_count": null,
   "metadata": {
    "collapsed": true,
    "pycharm": {
     "name": "#%%\n"
    }
   },
   "outputs": [],
   "source": [
    "import pandas as pd\n",
    "\n",
    "import df2img\n",
    "\n",
    "\n",
    "df = pd.DataFrame(\n",
    "    data=dict(\n",
    "        float_col=[1.4, float(\"NaN\"), 250, 24.65],\n",
    "        str_col=(\"string1\", \"string2\", float(\"NaN\"), \"string4\"),\n",
    "    ),\n",
    "    index=[\"row1\", \"row2\", \"row3\", \"row4\"],\n",
    ")\n",
    "\n",
    "df"
   ]
  },
  {
   "cell_type": "markdown",
   "metadata": {
    "collapsed": false
   },
   "source": [
    "Saving ``df`` into a png-file now takes just two lines of code, including some styling out of the box.\n",
    "\n",
    "First, we create a ``plotly`` figure.\n"
   ]
  },
  {
   "cell_type": "code",
   "execution_count": null,
   "metadata": {
    "collapsed": false,
    "pycharm": {
     "name": "#%%\n"
    }
   },
   "outputs": [],
   "source": [
    "fig = df2img.plot_dataframe(df, fig_size=(600, 140))"
   ]
  },
  {
   "cell_type": "markdown",
   "metadata": {
    "collapsed": false,
    "pycharm": {
     "name": "#%% md\n"
    }
   },
   "source": [
    "Second, we save the figure to disk."
   ]
  },
  {
   "cell_type": "code",
   "execution_count": null,
   "metadata": {
    "collapsed": false,
    "pycharm": {
     "name": "#%%\n"
    }
   },
   "outputs": [],
   "source": [
    "df2img.save_dataframe(fig=fig, filename=\"./images/getting_started.png\")"
   ]
  }
 ],
 "metadata": {
  "interpreter": {
   "hash": "f54f599f57d1caab3c9d52441171cafea2ed7008ea7b55c29f5d123e684b75e5"
  },
  "kernelspec": {
   "display_name": "Python 3.10.4 ('.venv': poetry)",
   "language": "python",
   "name": "python3"
  },
  "language_info": {
   "codemirror_mode": {
    "name": "ipython",
    "version": 3
   },
   "file_extension": ".py",
   "mimetype": "text/x-python",
   "name": "python",
   "nbconvert_exporter": "python",
   "pygments_lexer": "ipython3",
   "version": "3.10.4"
  }
 },
 "nbformat": 4,
 "nbformat_minor": 0
}
