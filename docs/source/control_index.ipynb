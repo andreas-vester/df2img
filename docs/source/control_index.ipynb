{
 "cells": [
  {
   "cell_type": "markdown",
   "metadata": {
    "collapsed": true,
    "pycharm": {
     "name": "#%% md\n"
    }
   },
   "source": [
    "# Controlling the index column\n",
    "\n",
    "**df2img** provides some possibilites to control how the index column will be printed/saved to an image file.\n",
    "\n",
    "First thing to mention is the fact that the index column header cell is dependent on the index name of the dataframe.\n",
    "If you wanted to omit a header for the index column, you have to set the index name of the dataframe to an empty string:\n",
    "``df.index.name = \"\"``.\n",
    "\n",
    "## Index header cell"
   ]
  },
  {
   "cell_type": "code",
   "execution_count": null,
   "outputs": [],
   "source": [
    "import pandas as pd\n",
    "\n",
    "import df2img\n",
    "\n",
    "df = pd.DataFrame(\n",
    "    data=dict(\n",
    "        value_col_1=[1.4, float(\"NaN\"), 250, 24.65],\n",
    "        str_col=(\"string1\", \"string2\", float(\"NaN\"), \"string4\"),\n",
    "    ),\n",
    "    index=[\"row1\", \"row2\", \"row3\", \"row4\"],\n",
    ")\n",
    "\n",
    "df"
   ],
   "metadata": {
    "collapsed": false,
    "pycharm": {
     "name": "#%%\n"
    }
   }
  },
  {
   "cell_type": "markdown",
   "source": [
    "Setting the index name at the dataframe level:"
   ],
   "metadata": {
    "collapsed": false,
    "pycharm": {
     "name": "#%% md\n"
    }
   }
  },
  {
   "cell_type": "code",
   "execution_count": null,
   "outputs": [],
   "source": [
    "df.index.name = \"row_number\"\n",
    "df"
   ],
   "metadata": {
    "collapsed": false,
    "pycharm": {
     "name": "#%%\n"
    }
   }
  },
  {
   "cell_type": "code",
   "execution_count": null,
   "outputs": [],
   "source": [
    "fig = df2img.plot_dataframe(\n",
    "    df,\n",
    "    title=dict(text=\"Table with index header\"),\n",
    "    fig_size=(600, 140)\n",
    ")"
   ],
   "metadata": {
    "collapsed": false,
    "pycharm": {
     "name": "#%%\n"
    }
   }
  },
  {
   "cell_type": "markdown",
   "source": [
    "## Omitting the index column\n",
    "\n",
    "**df2img** provides the keyword argument ``print_index``, which, if set to ``True``, prints the index column.\n",
    "If it is set to ``False``, the dataframe's index column will simply be ignored/not printed at all."
   ],
   "metadata": {
    "collapsed": false,
    "pycharm": {
     "name": "#%% md\n"
    }
   }
  },
  {
   "cell_type": "code",
   "execution_count": null,
   "outputs": [],
   "source": [
    "fig = df2img.plot_dataframe(\n",
    "    df,\n",
    "    print_index=False,\n",
    "    title=dict(text=\"Table without index column\"),\n",
    "    fig_size=(600, 140)\n",
    ")"
   ],
   "metadata": {
    "collapsed": false,
    "pycharm": {
     "name": "#%%\n"
    }
   }
  }
 ],
 "metadata": {
  "kernelspec": {
   "display_name": "Python 3",
   "language": "python",
   "name": "python3"
  },
  "language_info": {
   "codemirror_mode": {
    "name": "ipython",
    "version": 2
   },
   "file_extension": ".py",
   "mimetype": "text/x-python",
   "name": "python",
   "nbconvert_exporter": "python",
   "pygments_lexer": "ipython2",
   "version": "2.7.6"
  }
 },
 "nbformat": 4,
 "nbformat_minor": 0
}
